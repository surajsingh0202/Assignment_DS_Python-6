{
 "cells": [
  {
   "cell_type": "code",
   "execution_count": 1,
   "id": "3cdd2f58-cb50-41bc-a491-f9855ed194ed",
   "metadata": {},
   "outputs": [
    {
     "name": "stdout",
     "output_type": "stream",
     "text": [
      "Name: Mountain Bike, Gears: 11 \n"
     ]
    }
   ],
   "source": [
    "'''Q1. Explain Class and Object with respect to Object-Oriented Programming. Give a suitable example.'''\n",
    "\n",
    "\n",
    "\"\"\"\n",
    "Class is a user-defined datatype that has its own data members and member functions whereas \n",
    "an object is an instance of class by which we can access the data members and member functions of the class.\"\"\"\n",
    "\n",
    "\n",
    "\n",
    "# define a class\n",
    "class Bike:\n",
    "    name = \"\"\n",
    "    gear = 0\n",
    "\n",
    "# create object of class\n",
    "bike1 = Bike()\n",
    "\n",
    "# access attributes and assign new values\n",
    "bike1.gear = 11\n",
    "bike1.name = \"Mountain Bike\"\n",
    "\n",
    "print(f\"Name: {bike1.name}, Gears: {bike1.gear} \")"
   ]
  },
  {
   "cell_type": "code",
   "execution_count": 2,
   "id": "57fe9f8b-daf3-4c6d-bc7e-17bba94f076c",
   "metadata": {},
   "outputs": [
    {
     "data": {
      "text/plain": [
       "'The Four Pillars of Object Oriented Programming\\nAbstraction.\\nEncapsulation.\\nInheritance.\\nPolymorphism.\\n'"
      ]
     },
     "execution_count": 2,
     "metadata": {},
     "output_type": "execute_result"
    }
   ],
   "source": [
    "'''Q2.Name the four pillars of OOPs.\n",
    "'''\n",
    "\n",
    "'''The Four Pillars of Object Oriented Programming\n",
    "Abstraction.\n",
    "Encapsulation.\n",
    "Inheritance.\n",
    "Polymorphism.\n",
    "'''"
   ]
  },
  {
   "cell_type": "code",
   "execution_count": 3,
   "id": "47cf1db2-679f-4736-9126-c0c64b00c209",
   "metadata": {},
   "outputs": [],
   "source": [
    "'''Q3. Explain why the __init__() function is used. Give a suitable example.'''\n",
    "\n",
    "'''In Python, __init__ is an instance method that initializes a newly created object.\n",
    "It takes the object as its first argument followed by additional arguments.\n",
    "The method takes the object as its first argument (self), followed by any additional arguments that need to be passed to it.'''\n",
    "\n",
    "\n",
    "\n",
    "\n",
    "\n",
    "class pwskills :\n",
    "    \n",
    "    def __init__(self, name , number, mail_id):\n",
    "        self.name = name\n",
    "        self.number = number\n",
    "        self.mail_id = mail_id"
   ]
  },
  {
   "cell_type": "code",
   "execution_count": 4,
   "id": "b9e80c18-515d-4b90-b8f6-70b4ecb2ef96",
   "metadata": {},
   "outputs": [],
   "source": [
    "pw = pwskills(\"suraaj\" , 8521596475 , \"suraaj@gmail.com\")"
   ]
  },
  {
   "cell_type": "code",
   "execution_count": 5,
   "id": "03b39522-8a07-459c-bbc4-45593ef09da7",
   "metadata": {},
   "outputs": [
    {
     "data": {
      "text/plain": [
       "'suraaj'"
      ]
     },
     "execution_count": 5,
     "metadata": {},
     "output_type": "execute_result"
    }
   ],
   "source": [
    "pw.name"
   ]
  },
  {
   "cell_type": "code",
   "execution_count": null,
   "id": "4e16785a-585f-4b4c-b576-f38dd0a40b6e",
   "metadata": {},
   "outputs": [],
   "source": [
    "'''Q4. Why self is used in OOPs?'''\n",
    "\n",
    "\n",
    "'''Without “self,” the interpreter would not know whether the variable belongs to the class or the instance.\n",
    "To maintain object-oriented nature: Python is an object-oriented programming (OOP) language, and “self” is an essential part of OOP'''\n",
    "\n"
   ]
  }
 ],
 "metadata": {
  "kernelspec": {
   "display_name": "Python 3 (ipykernel)",
   "language": "python",
   "name": "python3"
  },
  "language_info": {
   "codemirror_mode": {
    "name": "ipython",
    "version": 3
   },
   "file_extension": ".py",
   "mimetype": "text/x-python",
   "name": "python",
   "nbconvert_exporter": "python",
   "pygments_lexer": "ipython3",
   "version": "3.10.8"
  }
 },
 "nbformat": 4,
 "nbformat_minor": 5
}
